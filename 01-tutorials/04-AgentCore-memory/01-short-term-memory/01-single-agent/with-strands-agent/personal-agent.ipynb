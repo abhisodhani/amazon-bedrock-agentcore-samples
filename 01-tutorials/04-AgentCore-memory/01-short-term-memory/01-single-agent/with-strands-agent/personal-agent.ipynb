{
 "cells": [
  {
   "cell_type": "markdown",
   "id": "overview",
   "metadata": {},
   "source": [
    "# Strands Agents with AgentCore Memory (Short-Term Memory)\n",
    "\n",
    "\n",
    "## Introduction\n",
    "\n",
    "This tutorial demonstrates how to build a **personal agent** using Strands agents with AgentCore **short-term memory** (Raw events). The agent remembers recent conversations in the session using `get_last_k_turns` and can continue conversations seamlessly when user returns.\n",
    "\n",
    "\n",
    "### Tutorial Details\n",
    "\n",
    "| Information         | Details                                                                          |\n",
    "|:--------------------|:---------------------------------------------------------------------------------|\n",
    "| Tutorial type       | Short Term Conversational                                                        |\n",
    "| Agent type          | Personal Agent                                                                   |\n",
    "| Agentic Framework   | Strands Agents                                                                   |\n",
    "| LLM model           | Anthropic Claude Sonnet 3.7                                                      |\n",
    "| Tutorial components | AgentCore Short-term Memory, AgentInitializedEvent and MessageAddedEvent hooks   |\n",
    "| Example complexity  | Beginner                                                                         |\n",
    "\n",
    "You'll learn to:\n",
    "- Use short-term memory for conversation continuity\n",
    "- Retrieve last K conversation turns\n",
    "- Web search tool for real-time information\n",
    "- Initialize agents with conversation history\n",
    "\n",
    "## Architecture\n",
    "<div style=\"text-align:left\">\n",
    "    <img src=\"architecture.png\" width=\"65%\" />\n",
    "</div>\n",
    "\n",
    "## Prerequisites\n",
    "\n",
    "- Python 3.10+\n",
    "- AWS credentials with AgentCore Memory permissions\n",
    "- AgentCore Memory role ARN\n",
    "- Access to Amazon Bedrock models\n",
    "\n",
    "Let's get started by setting up our environment!"
   ]
  },
  {
   "cell_type": "markdown",
   "id": "setup",
   "metadata": {},
   "source": [
    "## Step 1: Setup and Imports"
   ]
  },
  {
   "cell_type": "code",
   "execution_count": 1,
   "id": "641512ed",
   "metadata": {},
   "outputs": [],
   "source": [
    "!pip install -qr requirements.txt"
   ]
  },
  {
   "cell_type": "code",
   "execution_count": 2,
   "id": "setup_code",
   "metadata": {},
   "outputs": [],
   "source": [
    "import logging\n",
    "from datetime import datetime\n",
    "\n",
    "# Setup\n",
    "logging.basicConfig(level=logging.INFO)\n",
    "logger = logging.getLogger(\"personal-agent\")"
   ]
  },
  {
   "cell_type": "code",
   "execution_count": 3,
   "id": "imports",
   "metadata": {},
   "outputs": [],
   "source": [
    "# Imports\n",
    "import os\n",
    "from strands import Agent, tool\n",
    "from strands.hooks import AgentInitializedEvent, HookProvider, HookRegistry, MessageAddedEvent\n",
    "from bedrock_agentcore.memory import MemoryClient\n",
    "\n",
    "# Configuration\n",
    "REGION = os.getenv('AWS_REGION', 'us-west-2') # AWS region for the agent\n",
    "ACTOR_ID = \"user_123\" # It can be any unique identifier (AgentID, User ID, etc.)\n",
    "SESSION_ID = \"personal_session_001\" # Unique session identifier\n"
   ]
  },
  {
   "cell_type": "markdown",
   "id": "step2",
   "metadata": {},
   "source": [
    "## Step 2: Web Search Tool\n",
    "\n",
    "First, let's create a simple web search tool for the agent."
   ]
  },
  {
   "cell_type": "code",
   "execution_count": 5,
   "id": "web_search",
   "metadata": {},
   "outputs": [
    {
     "name": "stderr",
     "output_type": "stream",
     "text": [
      "INFO:personal-agent:✅ Web search tool ready\n"
     ]
    }
   ],
   "source": [
    "from ddgs.exceptions import DDGSException, RatelimitException\n",
    "from ddgs import DDGS\n",
    "\n",
    "@tool\n",
    "def websearch(keywords: str, region: str = \"us-en\", max_results: int = 5) -> str:\n",
    "    \"\"\"Search the web for updated information.\n",
    "    \n",
    "    Args:\n",
    "        keywords (str): The search query keywords.\n",
    "        region (str): The search region: wt-wt, us-en, uk-en, ru-ru, etc..\n",
    "        max_results (int | None): The maximum number of results to return.\n",
    "    Returns:\n",
    "        List of dictionaries with search results.\n",
    "    \n",
    "    \"\"\"\n",
    "    try:\n",
    "        results = DDGS().text(keywords, region=region, max_results=max_results)\n",
    "        return results if results else \"No results found.\"\n",
    "    except RatelimitException:\n",
    "        return \"Rate limit reached. Please try again later.\"\n",
    "    except DDGSException as e:\n",
    "        return f\"Search error: {e}\"\n",
    "    except Exception as e:\n",
    "        return f\"Search error: {str(e)}\"\n",
    "\n",
    "logger.info(\"✅ Web search tool ready\")"
   ]
  },
  {
   "cell_type": "markdown",
   "id": "step3",
   "metadata": {},
   "source": [
    "## Step 3: Create Memory Resource\n",
    "For short-term memory, we create a memory resource without any strategies. This stores raw conversation turns that can be retrieved with `get_last_k_turns`.\n"
   ]
  },
  {
   "cell_type": "code",
   "execution_count": 6,
   "id": "create_memory",
   "metadata": {},
   "outputs": [
    {
     "name": "stderr",
     "output_type": "stream",
     "text": [
      "INFO:botocore.credentials:Found credentials in shared credentials file: ~/.aws/credentials\n",
      "INFO:bedrock_agentcore.memory.client:Initialized MemoryClient for control plane: us-west-2, data plane: us-west-2\n",
      "INFO:bedrock_agentcore.memory.client:Created memory: PersonalAgentMemory-4nR0vJGlSv\n",
      "INFO:bedrock_agentcore.memory.client:Created memory PersonalAgentMemory-4nR0vJGlSv, waiting for ACTIVE status...\n",
      "INFO:bedrock_agentcore.memory.client:Memory PersonalAgentMemory-4nR0vJGlSv is now ACTIVE (took 0 seconds)\n",
      "INFO:personal-agent:✅ Created memory: PersonalAgentMemory-4nR0vJGlSv\n"
     ]
    }
   ],
   "source": [
    "from botocore.exceptions import ClientError\n",
    "\n",
    "# Initialize Memory Client\n",
    "client = MemoryClient(region_name=REGION)\n",
    "memory_name = \"PersonalAgentMemory\"\n",
    "\n",
    "try:\n",
    "    # Create memory resource without strategies (thus only access to short-term memory)\n",
    "    memory = client.create_memory_and_wait(\n",
    "        name=memory_name,\n",
    "        strategies=[],  # No strategies for short-term memory\n",
    "        description=\"Short-term memory for personal agent\",\n",
    "        event_expiry_days=7, # Retention period for short-term memory. This can be upto 365 days.\n",
    "    )\n",
    "    memory_id = memory['id']\n",
    "    logger.info(f\"✅ Created memory: {memory_id}\")\n",
    "except ClientError as e:\n",
    "    logger.info(f\"❌ ERROR: {e}\")\n",
    "    if e.response['Error']['Code'] == 'ValidationException' and \"already exists\" in str(e):\n",
    "        # If memory already exists, retrieve its ID\n",
    "        memories = client.list_memories()\n",
    "        memory_id = next((m['id'] for m in memories if m['id'].startswith(memory_name)), None)\n",
    "        logger.info(f\"Memory already exists. Using existing memory ID: {memory_id}\")\n",
    "except Exception as e:\n",
    "    # Show any errors during memory creation\n",
    "    logger.error(f\"❌ ERROR: {e}\")\n",
    "    import traceback\n",
    "    traceback.print_exc()\n",
    "    # Cleanup on error - delete the memory if it was partially created\n",
    "    if memory_id:\n",
    "        try:\n",
    "            client.delete_memory_and_wait(memory_id=memory_id)\n",
    "            logger.info(f\"Cleaned up memory: {memory_id}\")\n",
    "        except Exception as cleanup_error:\n",
    "            logger.error(f\"Failed to clean up memory: {cleanup_error}\")"
   ]
  },
  {
   "cell_type": "markdown",
   "id": "step4",
   "metadata": {},
   "source": [
    "## Step 4: Memory Hook\n",
    "\n",
    "This step defines our custom `MemoryHookProvider` class that automates memory operations. Hooks are special functions that run at specific points in an agent's execution lifecycle. The memory hook we're creating serves two primary functions:\n",
    "1. **To load recent conversation**: We use the `AgentInitializedEvent` hook will automatically load recent conversation history when the agent is initialized.\n",
    "2. **To store the last message**: Stores new conversational message.\n",
    "\n",
    "This creates a seamless memory experience without manual management."
   ]
  },
  {
   "cell_type": "code",
   "execution_count": 16,
   "id": "memory_hook",
   "metadata": {},
   "outputs": [],
   "source": [
    "class MemoryHookProvider(HookProvider):\n",
    "    def __init__(self, memory_client: MemoryClient, memory_id: str):\n",
    "        self.memory_client = memory_client\n",
    "        self.memory_id = memory_id\n",
    "    \n",
    "    def on_agent_initialized(self, event: AgentInitializedEvent):\n",
    "        \"\"\"Load recent conversation history when agent starts\"\"\"\n",
    "        try:\n",
    "            # Load the last 5 conversation turns from memory\n",
    "            # Get session info from agent state\n",
    "            actor_id = event.agent.state.get(\"actor_id\")\n",
    "            session_id = event.agent.state.get(\"session_id\")\n",
    "            \n",
    "            if not actor_id or not session_id:\n",
    "                logger.warning(\"Missing actor_id or session_id in agent state\")\n",
    "                return\n",
    "            \n",
    "            recent_turns = self.memory_client.get_last_k_turns(\n",
    "                memory_id=self.memory_id,\n",
    "                actor_id=actor_id,\n",
    "                session_id=session_id,\n",
    "                k=5\n",
    "            )\n",
    "            \n",
    "            if recent_turns:\n",
    "                # Format conversation history for context\n",
    "                context_messages = []\n",
    "                for turn in recent_turns:\n",
    "                    for message in turn:\n",
    "                        role = message['role']\n",
    "                        content = message['content']['text']\n",
    "                        context_messages.append(f\"{role}: {content}\")\n",
    "                \n",
    "                context = \"\\n\".join(context_messages)\n",
    "                # Add context to agent's system prompt.\n",
    "                event.agent.system_prompt += f\"\\n\\nRecent conversation:\\n{context}\"\n",
    "                logger.info(f\"✅ Loaded {len(recent_turns)} conversation turns\")\n",
    "                \n",
    "        except Exception as e:\n",
    "            logger.error(f\"Memory load error: {e}\")\n",
    "    \n",
    "    def on_message_added(self, event: MessageAddedEvent):\n",
    "        \"\"\"Store messages in memory\"\"\"\n",
    "        messages = event.agent.messages\n",
    "        try:\n",
    "            # Get session info from agent state\n",
    "            actor_id = event.agent.state.get(\"actor_id\")\n",
    "            session_id = event.agent.state.get(\"session_id\")\n",
    "\n",
    "            if messages[-1][\"content\"][0].get(\"text\"):\n",
    "                self.memory_client.create_event(\n",
    "                    memory_id=self.memory_id,\n",
    "                    actor_id=actor_id,\n",
    "                    session_id=session_id,\n",
    "                    messages=[(messages[-1][\"content\"][0][\"text\"], messages[-1][\"role\"])]\n",
    "                )\n",
    "        except Exception as e:\n",
    "            logger.error(f\"Memory save error: {e}\")\n",
    "    \n",
    "    def register_hooks(self, registry: HookRegistry):\n",
    "        # Register memory hooks\n",
    "        registry.add_callback(MessageAddedEvent, self.on_message_added)\n",
    "        registry.add_callback(AgentInitializedEvent, self.on_agent_initialized)"
   ]
  },
  {
   "cell_type": "markdown",
   "id": "step5",
   "metadata": {},
   "source": [
    "## Step 5: Create Personal Agent with Web Search"
   ]
  },
  {
   "cell_type": "code",
   "execution_count": 17,
   "id": "create_agent",
   "metadata": {},
   "outputs": [
    {
     "name": "stderr",
     "output_type": "stream",
     "text": [
      "INFO:botocore.credentials:Found credentials in shared credentials file: ~/.aws/credentials\n",
      "INFO:bedrock_agentcore.memory.client:Retrieved total of 7 events\n",
      "INFO:personal-agent:✅ Loaded 4 conversation turns\n",
      "INFO:personal-agent:✅ Personal agent created with memory and web search\n"
     ]
    }
   ],
   "source": [
    "def create_personal_agent():\n",
    "    \"\"\"Create personal agent with memory and web search\"\"\"\n",
    "    agent = Agent(\n",
    "        name=\"PersonalAssistantwithSTMemory\",\n",
    "        model=\"us.anthropic.claude-3-7-sonnet-20250219-v1:0\",  # or your preferred model\n",
    "        system_prompt=f\"\"\"You are a helpful personal assistant with web search capabilities.\n",
    "        \n",
    "        You can help with:\n",
    "        - General questions and information lookup\n",
    "        - Web searches for current information\n",
    "        - Personal task management\n",
    "        \n",
    "        When you need current information, use the websearch function.\n",
    "        Today's date: {datetime.today().strftime('%Y-%m-%d')}\n",
    "        Be friendly and professional.\"\"\",\n",
    "        hooks=[MemoryHookProvider(client, memory_id)],\n",
    "        tools=[websearch],\n",
    "        state={\"actor_id\": ACTOR_ID, \"session_id\": SESSION_ID}\n",
    "    )\n",
    "    return agent\n",
    "\n",
    "# Create agent\n",
    "agent = create_personal_agent()\n",
    "logger.info(\"✅ Personal agent created with memory and web search\")"
   ]
  },
  {
   "cell_type": "markdown",
   "id": "step6",
   "metadata": {},
   "source": [
    "#### Congratulations ! Your agent is ready ! :) \n",
    "## Lets test the Agent"
   ]
  },
  {
   "cell_type": "code",
   "execution_count": 18,
   "id": "first_session",
   "metadata": {},
   "outputs": [
    {
     "name": "stderr",
     "output_type": "stream",
     "text": [
      "INFO:bedrock_agentcore.memory.client:Created event: 0000001758434474000#14734c3d\n"
     ]
    },
    {
     "name": "stdout",
     "output_type": "stream",
     "text": [
      "=== First Conversation ===\n",
      "User: My name is Alex and I'm interested in learning about AI.\n",
      "Agent: Hi Alex! I'd be happy to help you learn about AI (Artificial Intelligence). AI is a fascinating field that's constantly evolving. Let me search for some up-to-date information for you.\n",
      "Tool #1: websearch\n"
     ]
    },
    {
     "name": "stderr",
     "output_type": "stream",
     "text": [
      "INFO:bedrock_agentcore.memory.client:Created event: 0000001758434477000#f39fb148\n",
      "INFO:primp:response: https://en.wikipedia.org/w/api.php?action=opensearch&profile=fuzzy&limit=1&search=what%20is%20artificial%20intelligence%20current%20developments%20in%20AI 200\n",
      "INFO:primp:response: https://search.yahoo.com/search;_ylt=IZUI5cXewT2l4Hb_2MHLlFZd;_ylu=FsE0qDLfe2UUDyKwphr797_-JTJ6jSpBC0CixI2yLlVEWc0?p=what+is+artificial+intelligence+current+developments+in+AI 200\n"
     ]
    },
    {
     "name": "stdout",
     "output_type": "stream",
     "text": [
      "# Introduction to Artificial Intelligence (2025)\n",
      "\n",
      "Based on the latest information, here's an overview of AI to help you get started:\n",
      "\n",
      "## What is Artificial Intelligence?\n",
      "\n",
      "Artificial Intelligence (AI) refers to computer systems designed to perform tasks that typically require human intelligence. These include:\n",
      "- Problem-solving\n",
      "- Learning from experience\n",
      "- Understanding natural language\n",
      "- Recognizing patterns and images\n",
      "- Making decisions based on data\n",
      "\n",
      "## Current AI Developments in 2025\n",
      "\n",
      "According to IBM's latest trends report from May 2025, AI development continues to expand across multiple areas. Here are some key developments:\n",
      "\n",
      "1. **Advanced AI Models**: AI has become increasingly sophisticated, now capable of performing complex tasks previously reserved for humans.\n",
      "\n",
      "2. **Wide Application Range**: AI is being applied across diverse fields including:\n",
      "   - Law\n",
      "   - Customer support\n",
      "   - Software development (coding)\n",
      "   - Journalism\n",
      "   - Healthcare\n",
      "   - Climate science\n",
      "   - Education\n",
      "\n",
      "3. **Employment Impact**: Stanford's Emerging Technology Review notes growing concerns about AI's substantial impact on knowledge work jobs.\n",
      "\n",
      "4. **Technical Advancements**: According to Stanford's AI Index, we're seeing significant advancements in AI capabilities, public perception, and geopolitical dynamics surrounding its development.\n",
      "\n",
      "## How to Start Learning About AI\n",
      "\n",
      "If you're interested in learning more about AI, you might consider:\n",
      "\n",
      "1. **Online courses** in machine learning, neural networks, or data science\n",
      "2. **Hands-on projects** with open-source AI tools\n",
      "3. **Following AI news** from sources like ScienceDaily or Stanford's AI Index\n",
      "4. **Exploring specific applications** of AI in fields that interest you\n",
      "\n",
      "Would you like me to search for more specific information about any aspect of AI that particularly interests you? For example, learning resources, specific applications, or ethical considerations?"
     ]
    },
    {
     "name": "stderr",
     "output_type": "stream",
     "text": [
      "INFO:bedrock_agentcore.memory.client:Created event: 0000001758434487000#2b03b1d4\n"
     ]
    },
    {
     "data": {
      "text/plain": [
       "AgentResult(stop_reason='end_turn', message={'role': 'assistant', 'content': [{'text': \"# Introduction to Artificial Intelligence (2025)\\n\\nBased on the latest information, here's an overview of AI to help you get started:\\n\\n## What is Artificial Intelligence?\\n\\nArtificial Intelligence (AI) refers to computer systems designed to perform tasks that typically require human intelligence. These include:\\n- Problem-solving\\n- Learning from experience\\n- Understanding natural language\\n- Recognizing patterns and images\\n- Making decisions based on data\\n\\n## Current AI Developments in 2025\\n\\nAccording to IBM's latest trends report from May 2025, AI development continues to expand across multiple areas. Here are some key developments:\\n\\n1. **Advanced AI Models**: AI has become increasingly sophisticated, now capable of performing complex tasks previously reserved for humans.\\n\\n2. **Wide Application Range**: AI is being applied across diverse fields including:\\n   - Law\\n   - Customer support\\n   - Software development (coding)\\n   - Journalism\\n   - Healthcare\\n   - Climate science\\n   - Education\\n\\n3. **Employment Impact**: Stanford's Emerging Technology Review notes growing concerns about AI's substantial impact on knowledge work jobs.\\n\\n4. **Technical Advancements**: According to Stanford's AI Index, we're seeing significant advancements in AI capabilities, public perception, and geopolitical dynamics surrounding its development.\\n\\n## How to Start Learning About AI\\n\\nIf you're interested in learning more about AI, you might consider:\\n\\n1. **Online courses** in machine learning, neural networks, or data science\\n2. **Hands-on projects** with open-source AI tools\\n3. **Following AI news** from sources like ScienceDaily or Stanford's AI Index\\n4. **Exploring specific applications** of AI in fields that interest you\\n\\nWould you like me to search for more specific information about any aspect of AI that particularly interests you? For example, learning resources, specific applications, or ethical considerations?\"}]}, metrics=EventLoopMetrics(cycle_count=2, tool_metrics={'websearch': ToolMetrics(tool={'toolUseId': 'tooluse_jv6AdRjASGuQOpPfQxwk5w', 'name': 'websearch', 'input': {'keywords': 'what is artificial intelligence current developments in AI', 'max_results': 5}}, call_count=1, success_count=1, error_count=0, total_time=0.9191889762878418)}, cycle_durations=[9.037928342819214], traces=[<strands.telemetry.metrics.Trace object at 0x12938fd70>, <strands.telemetry.metrics.Trace object at 0x10f789ac0>], accumulated_usage={'inputTokens': 5361, 'outputTokens': 525, 'totalTokens': 5886}, accumulated_metrics={'latencyMs': 11357}), state={})"
      ]
     },
     "execution_count": 18,
     "metadata": {},
     "output_type": "execute_result"
    }
   ],
   "source": [
    "# Test conversation with memory\n",
    "print(\"=== First Conversation ===\")\n",
    "print(f\"User: My name is Alex and I'm interested in learning about AI.\")\n",
    "print(f\"Agent: \", end=\"\")\n",
    "agent(\"My name is Alex and I'm interested in learning about AI.\")"
   ]
  },
  {
   "cell_type": "code",
   "execution_count": 19,
   "id": "second_message",
   "metadata": {},
   "outputs": [
    {
     "name": "stderr",
     "output_type": "stream",
     "text": [
      "INFO:bedrock_agentcore.memory.client:Created event: 0000001758434549000#19812815\n"
     ]
    },
    {
     "name": "stdout",
     "output_type": "stream",
     "text": [
      "User: Can you search for the latest AI trends in 2025?\n",
      "Agent: I'll search for the latest AI trends in 2025 specifically to get you the most current information.\n",
      "Tool #2: websearch\n"
     ]
    },
    {
     "name": "stderr",
     "output_type": "stream",
     "text": [
      "INFO:bedrock_agentcore.memory.client:Created event: 0000001758434551000#2b0cfe02\n",
      "INFO:primp:response: https://en.wikipedia.org/w/api.php?action=opensearch&profile=fuzzy&limit=1&search=latest%20AI%20trends%202025%20artificial%20intelligence%20developments 200\n",
      "INFO:primp:response: https://search.brave.com/search?q=latest+AI+trends+2025+artificial+intelligence+developments&source=web 200\n"
     ]
    },
    {
     "name": "stdout",
     "output_type": "stream",
     "text": [
      "# Latest AI Trends in 2025\n",
      "\n",
      "Based on my search results, here are the most current AI trends shaping 2025:\n",
      "\n",
      "## 1. Agentic AI\n",
      "Multiple sources, including MIT Sloan Management Review and Gartner, identify agentic AI as the dominant trend of 2025. These are AI systems that can perform tasks independently with minimal human supervision. According to MIT Sloan, it's being called \"2025's most trending AI trend,\" with significant excitement about AI agents that can accomplish tasks autonomously.\n",
      "\n",
      "## 2. AI Reasoning Capabilities\n",
      "Morgan Stanley reports that AI reasoning is one of the top frontier trends this year. Tech companies are focusing on refining cutting-edge AI applications that demonstrate more sophisticated reasoning abilities beyond simple pattern recognition.\n",
      "\n",
      "## 3. Custom Silicon and Hardware\n",
      "According to Morgan Stanley insights, the development of specialized AI hardware and custom silicon is a key trend driving innovation and performance improvements in 2025.\n",
      "\n",
      "## 4. AI-Ready Data\n",
      "Gartner's Hype Cycle identifies AI-ready data as one of the two fastest-advancing technologies in 2025, alongside AI agents. This suggests increased focus on preparing and structuring data specifically for AI applications.\n",
      "\n",
      "## 5. Testing and Customization\n",
      "Microsoft News (May 2025) highlights that one of the biggest developments this year can be summarized in two words: \"testing and customization.\" This indicates a shift toward more rigorous evaluation of AI systems and tailoring them for specific use cases.\n",
      "\n",
      "## 6. Measuring AI Efficacy and ROI\n",
      "Morgan Stanley also notes that enterprises are increasingly focused on developing systems to measure AI efficacy. Companies are working to quantify AI's return on investment to justify and optimize their AI implementations.\n",
      "\n",
      "## 7. Cloud Migrations for AI\n",
      "Enterprise cloud migrations specifically optimized for AI applications continue to be a significant trend, allowing for more scalable and accessible AI deployments.\n",
      "\n",
      "## 8. Responsible AI Building\n",
      "Microsoft emphasizes the continued importance of building AI responsibly, suggesting that ethical considerations and governance remain critical focus areas in 2025.\n",
      "\n",
      "Would you like me to search for more specific information about any of these trends, or perhaps look into how these developments might apply to a particular industry or use case that interests you?"
     ]
    },
    {
     "name": "stderr",
     "output_type": "stream",
     "text": [
      "INFO:bedrock_agentcore.memory.client:Created event: 0000001758434563000#12e5751b\n"
     ]
    },
    {
     "data": {
      "text/plain": [
       "AgentResult(stop_reason='end_turn', message={'role': 'assistant', 'content': [{'text': '# Latest AI Trends in 2025\\n\\nBased on my search results, here are the most current AI trends shaping 2025:\\n\\n## 1. Agentic AI\\nMultiple sources, including MIT Sloan Management Review and Gartner, identify agentic AI as the dominant trend of 2025. These are AI systems that can perform tasks independently with minimal human supervision. According to MIT Sloan, it\\'s being called \"2025\\'s most trending AI trend,\" with significant excitement about AI agents that can accomplish tasks autonomously.\\n\\n## 2. AI Reasoning Capabilities\\nMorgan Stanley reports that AI reasoning is one of the top frontier trends this year. Tech companies are focusing on refining cutting-edge AI applications that demonstrate more sophisticated reasoning abilities beyond simple pattern recognition.\\n\\n## 3. Custom Silicon and Hardware\\nAccording to Morgan Stanley insights, the development of specialized AI hardware and custom silicon is a key trend driving innovation and performance improvements in 2025.\\n\\n## 4. AI-Ready Data\\nGartner\\'s Hype Cycle identifies AI-ready data as one of the two fastest-advancing technologies in 2025, alongside AI agents. This suggests increased focus on preparing and structuring data specifically for AI applications.\\n\\n## 5. Testing and Customization\\nMicrosoft News (May 2025) highlights that one of the biggest developments this year can be summarized in two words: \"testing and customization.\" This indicates a shift toward more rigorous evaluation of AI systems and tailoring them for specific use cases.\\n\\n## 6. Measuring AI Efficacy and ROI\\nMorgan Stanley also notes that enterprises are increasingly focused on developing systems to measure AI efficacy. Companies are working to quantify AI\\'s return on investment to justify and optimize their AI implementations.\\n\\n## 7. Cloud Migrations for AI\\nEnterprise cloud migrations specifically optimized for AI applications continue to be a significant trend, allowing for more scalable and accessible AI deployments.\\n\\n## 8. Responsible AI Building\\nMicrosoft emphasizes the continued importance of building AI responsibly, suggesting that ethical considerations and governance remain critical focus areas in 2025.\\n\\nWould you like me to search for more specific information about any of these trends, or perhaps look into how these developments might apply to a particular industry or use case that interests you?'}]}, metrics=EventLoopMetrics(cycle_count=4, tool_metrics={'websearch': ToolMetrics(tool={'toolUseId': 'tooluse_M2MFppN3SEm699Le-RRLBg', 'name': 'websearch', 'input': {'keywords': 'latest AI trends 2025 artificial intelligence developments', 'max_results': 5}}, call_count=2, success_count=2, error_count=0, total_time=1.8164217472076416)}, cycle_durations=[9.037928342819214, 11.12962293624878], traces=[<strands.telemetry.metrics.Trace object at 0x12938fd70>, <strands.telemetry.metrics.Trace object at 0x10f789ac0>, <strands.telemetry.metrics.Trace object at 0x10ef6bf20>, <strands.telemetry.metrics.Trace object at 0x10fd0f620>], accumulated_usage={'inputTokens': 13028, 'outputTokens': 1123, 'totalTokens': 14151}, accumulated_metrics={'latencyMs': 24797}), state={})"
      ]
     },
     "execution_count": 19,
     "metadata": {},
     "output_type": "execute_result"
    }
   ],
   "source": [
    "print(f\"User: Can you search for the latest AI trends in 2025?\")\n",
    "print(f\"Agent: \", end=\"\")\n",
    "agent(\"Can you search for the latest AI trends in 2025?\")"
   ]
  },
  {
   "cell_type": "code",
   "execution_count": 20,
   "id": "third_message",
   "metadata": {},
   "outputs": [
    {
     "name": "stderr",
     "output_type": "stream",
     "text": [
      "INFO:bedrock_agentcore.memory.client:Created event: 0000001758434579000#f6303f2b\n"
     ]
    },
    {
     "name": "stdout",
     "output_type": "stream",
     "text": [
      "User: I'm particularly interested in machine learning applications.\n",
      "Agent: I'll search for the latest information on machine learning applications to provide you with the most current developments in this specific area of AI.\n",
      "Tool #3: websearch\n"
     ]
    },
    {
     "name": "stderr",
     "output_type": "stream",
     "text": [
      "INFO:bedrock_agentcore.memory.client:Created event: 0000001758434582000#7cbcaf89\n",
      "INFO:primp:response: https://en.wikipedia.org/w/api.php?action=opensearch&profile=fuzzy&limit=1&search=current%20machine%20learning%20applications%20trends%202025%20real-world%20uses 200\n",
      "INFO:primp:response: https://www.mojeek.com/search?q=current+machine+learning+applications+trends+2025+real-world+uses 200\n"
     ]
    },
    {
     "name": "stdout",
     "output_type": "stream",
     "text": [
      "Let me search again for more current information about machine learning applications in 2025 specifically.\n",
      "Tool #4: websearch\n"
     ]
    },
    {
     "name": "stderr",
     "output_type": "stream",
     "text": [
      "INFO:bedrock_agentcore.memory.client:Created event: 0000001758434587000#8201aa02\n",
      "INFO:primp:response: https://en.wikipedia.org/w/api.php?action=opensearch&profile=fuzzy&limit=1&search=machine%20learning%20applications%202025%20industry%20applications%20ML%20trends%20healthcare%20finance%20manufacturing 200\n",
      "INFO:primp:response: https://search.brave.com/search?q=machine+learning+applications+2025+industry+applications+ML+trends+healthcare+finance+manufacturing&source=web 200\n"
     ]
    },
    {
     "name": "stdout",
     "output_type": "stream",
     "text": [
      "# Machine Learning Applications in 2025: Current Trends and Real-World Uses\n",
      "\n",
      "Based on the latest information, here are the most significant machine learning applications and trends in 2025:\n",
      "\n",
      "## Healthcare Applications\n",
      "\n",
      "According to recent reports from MobiDev (published just last week) and NIX United (from June 2025), healthcare is seeing transformative ML applications:\n",
      "\n",
      "1. **Predictive Healthcare Analytics**: Google's DeepMind is analyzing electronic health records (EHRs) to forecast health risks and optimize treatment plans.\n",
      "\n",
      "2. **Medical Imaging Analysis**: ML algorithms now detect anomalies in X-rays, MRIs, and CT scans with high accuracy, enabling earlier diagnosis of conditions like cancer.\n",
      "\n",
      "3. **Market Growth**: The healthcare AI market is experiencing explosive growth, with a projected CAGR of 41.4% between 2020 and 2027, expected to reach $51.3 billion by 2027.\n",
      "\n",
      "## Financial Services Applications\n",
      "\n",
      "Helpware reports (also published last week) that financial services are leveraging ML in several key ways:\n",
      "\n",
      "1. **Automated Trading**: Financial institutions are using ML to automate trading processes and make data-driven investment decisions.\n",
      "\n",
      "2. **Fraud Detection**: ML algorithms can determine whether transactions are suspicious by comparing them to established patterns.\n",
      "\n",
      "3. **Market Analysis**: Predictive modeling is being used to analyze market trends and forecast stock prices with increasing accuracy.\n",
      "\n",
      "## Industry-Wide Trends\n",
      "\n",
      "According to CodingBrushUp (July 2025) and TechTarget, several overarching ML trends are emerging:\n",
      "\n",
      "1. **Multimodal Models**: Systems that can process and integrate multiple types of data (text, images, audio) simultaneously are becoming mainstream.\n",
      "\n",
      "2. **ML Agents**: Autonomous ML systems that can perform complex tasks with minimal human supervision.\n",
      "\n",
      "3. **Accessibility**: Machine learning technologies are becoming more accessible to non-technical users and smaller businesses through improved interfaces and low-code/no-code platforms.\n",
      "\n",
      "4. **Security Challenges**: With wider ML adoption comes increased focus on security challenges and vulnerabilities specific to machine learning systems.\n",
      "\n",
      "5. **Regulatory Evolution**: Regulatory frameworks around ML applications are maturing, particularly in sensitive industries like healthcare and finance.\n",
      "\n",
      "## What Makes 2025's ML Applications Different\n",
      "\n",
      "According to CodingBrushUp, what distinguishes 2025's machine learning applications is that they are \"smarter, faster, and more accessible than ever before.\" The technology has matured to the point where it's valuable not just for technical professionals but also for decision-makers, students, and everyday consumers.\n",
      "\n",
      "Would you like me to search for more information about any specific ML application area that interests you most? For example, I could look deeper into healthcare applications, financial services, manufacturing, or how small businesses are implementing ML in 2025."
     ]
    },
    {
     "name": "stderr",
     "output_type": "stream",
     "text": [
      "INFO:bedrock_agentcore.memory.client:Created event: 0000001758434601000#3076baaf\n"
     ]
    },
    {
     "data": {
      "text/plain": [
       "AgentResult(stop_reason='end_turn', message={'role': 'assistant', 'content': [{'text': '# Machine Learning Applications in 2025: Current Trends and Real-World Uses\\n\\nBased on the latest information, here are the most significant machine learning applications and trends in 2025:\\n\\n## Healthcare Applications\\n\\nAccording to recent reports from MobiDev (published just last week) and NIX United (from June 2025), healthcare is seeing transformative ML applications:\\n\\n1. **Predictive Healthcare Analytics**: Google\\'s DeepMind is analyzing electronic health records (EHRs) to forecast health risks and optimize treatment plans.\\n\\n2. **Medical Imaging Analysis**: ML algorithms now detect anomalies in X-rays, MRIs, and CT scans with high accuracy, enabling earlier diagnosis of conditions like cancer.\\n\\n3. **Market Growth**: The healthcare AI market is experiencing explosive growth, with a projected CAGR of 41.4% between 2020 and 2027, expected to reach $51.3 billion by 2027.\\n\\n## Financial Services Applications\\n\\nHelpware reports (also published last week) that financial services are leveraging ML in several key ways:\\n\\n1. **Automated Trading**: Financial institutions are using ML to automate trading processes and make data-driven investment decisions.\\n\\n2. **Fraud Detection**: ML algorithms can determine whether transactions are suspicious by comparing them to established patterns.\\n\\n3. **Market Analysis**: Predictive modeling is being used to analyze market trends and forecast stock prices with increasing accuracy.\\n\\n## Industry-Wide Trends\\n\\nAccording to CodingBrushUp (July 2025) and TechTarget, several overarching ML trends are emerging:\\n\\n1. **Multimodal Models**: Systems that can process and integrate multiple types of data (text, images, audio) simultaneously are becoming mainstream.\\n\\n2. **ML Agents**: Autonomous ML systems that can perform complex tasks with minimal human supervision.\\n\\n3. **Accessibility**: Machine learning technologies are becoming more accessible to non-technical users and smaller businesses through improved interfaces and low-code/no-code platforms.\\n\\n4. **Security Challenges**: With wider ML adoption comes increased focus on security challenges and vulnerabilities specific to machine learning systems.\\n\\n5. **Regulatory Evolution**: Regulatory frameworks around ML applications are maturing, particularly in sensitive industries like healthcare and finance.\\n\\n## What Makes 2025\\'s ML Applications Different\\n\\nAccording to CodingBrushUp, what distinguishes 2025\\'s machine learning applications is that they are \"smarter, faster, and more accessible than ever before.\" The technology has matured to the point where it\\'s valuable not just for technical professionals but also for decision-makers, students, and everyday consumers.\\n\\nWould you like me to search for more information about any specific ML application area that interests you most? For example, I could look deeper into healthcare applications, financial services, manufacturing, or how small businesses are implementing ML in 2025.'}]}, metrics=EventLoopMetrics(cycle_count=7, tool_metrics={'websearch': ToolMetrics(tool={'toolUseId': 'tooluse_bJ6UJYukT-acf4YG7ZpDSg', 'name': 'websearch', 'input': {'keywords': 'machine learning applications 2025 industry applications ML trends healthcare finance manufacturing', 'max_results': 5}}, call_count=4, success_count=4, error_count=0, total_time=4.392834901809692)}, cycle_durations=[9.037928342819214, 11.12962293624878, 13.180876731872559], traces=[<strands.telemetry.metrics.Trace object at 0x12938fd70>, <strands.telemetry.metrics.Trace object at 0x10f789ac0>, <strands.telemetry.metrics.Trace object at 0x10ef6bf20>, <strands.telemetry.metrics.Trace object at 0x10fd0f620>, <strands.telemetry.metrics.Trace object at 0x12938ffe0>, <strands.telemetry.metrics.Trace object at 0x10bfc5370>, <strands.telemetry.metrics.Trace object at 0x12940c0b0>], accumulated_usage={'inputTokens': 29109, 'outputTokens': 1961, 'totalTokens': 31070}, accumulated_metrics={'latencyMs': 43619}), state={})"
      ]
     },
     "execution_count": 20,
     "metadata": {},
     "output_type": "execute_result"
    }
   ],
   "source": [
    "print(f\"User: I'm particularly interested in machine learning applications.\")\n",
    "print(f\"Agent: \", end=\"\")\n",
    "agent(\"I'm particularly interested in machine learning applications.\")"
   ]
  },
  {
   "cell_type": "markdown",
   "id": "step7",
   "metadata": {},
   "source": [
    "## Test Memory Continuity\n",
    "\n",
    "To test if our memory system is working correctly, we'll create a new instance of the agent and see if it can access the previously stored information:"
   ]
  },
  {
   "cell_type": "code",
   "execution_count": 21,
   "id": "agent_restart",
   "metadata": {},
   "outputs": [
    {
     "name": "stderr",
     "output_type": "stream",
     "text": [
      "INFO:botocore.credentials:Found credentials in shared credentials file: ~/.aws/credentials\n"
     ]
    },
    {
     "name": "stdout",
     "output_type": "stream",
     "text": [
      "=== User Returns - New Session ===\n"
     ]
    },
    {
     "name": "stderr",
     "output_type": "stream",
     "text": [
      "INFO:bedrock_agentcore.memory.client:Retrieved total of 17 events\n",
      "INFO:personal-agent:✅ Loaded 5 conversation turns\n",
      "INFO:bedrock_agentcore.memory.client:Created event: 0000001758434638000#e0d60c1e\n"
     ]
    },
    {
     "name": "stdout",
     "output_type": "stream",
     "text": [
      "User: What was my name again?\n",
      "Agent: Based on our previous conversation, your name is Alex. You mentioned this when you introduced yourself saying \"My name is Alex and I'm interested in learning about AI.\""
     ]
    },
    {
     "name": "stderr",
     "output_type": "stream",
     "text": [
      "INFO:bedrock_agentcore.memory.client:Created event: 0000001758434640000#59925a91\n",
      "INFO:bedrock_agentcore.memory.client:Created event: 0000001758434640000#c2c6a399\n"
     ]
    },
    {
     "name": "stdout",
     "output_type": "stream",
     "text": [
      "User: Can you search for more information about machine learning?\n",
      "Agent: I'll search for more information about machine learning for you, Alex.\n",
      "Tool #1: websearch\n"
     ]
    },
    {
     "name": "stderr",
     "output_type": "stream",
     "text": [
      "INFO:bedrock_agentcore.memory.client:Created event: 0000001758434643000#8ff6bb18\n",
      "INFO:primp:response: https://en.wikipedia.org/w/api.php?action=opensearch&profile=fuzzy&limit=1&search=machine%20learning%20latest%20developments%20applications%20techniques 200\n",
      "INFO:primp:response: https://www.mojeek.com/search?q=machine+learning+latest+developments+applications+techniques 200\n"
     ]
    },
    {
     "name": "stdout",
     "output_type": "stream",
     "text": [
      "Based on my search, here's some information about machine learning:\n",
      "\n",
      "# Machine Learning: Latest Developments and Applications\n",
      "\n",
      "## What is Machine Learning?\n",
      "Machine learning is a subset of artificial intelligence that focuses on developing systems that can learn from and make decisions based on data, without being explicitly programmed for specific tasks.\n",
      "\n",
      "## Recent Developments\n",
      "\n",
      "1. **Advancements in Deep Learning Algorithms**: According to AISmasher, there have been significant breakthroughs in deep learning algorithms, enabling more sophisticated applications.\n",
      "\n",
      "2. **Integration with Smart Cities**: MyAlphaFund reports that machine learning is playing a crucial role in the development of smart cities, helping urban environments become more connected and data-driven.\n",
      "\n",
      "3. **Enhanced Computational Efficiency**: Research published in Frontiers in Energy Research highlights improvements in balancing computational efficiency and accuracy, particularly in applications like heat exchanger analysis.\n",
      "\n",
      "## Key Application Areas\n",
      "\n",
      "1. **Energy Systems**: Machine learning methods are being developed to analyze heat exchangers and other energy systems more efficiently.\n",
      "\n",
      "2. **Enterprise Analytics**: Major companies like Google, Facebook, Amazon, Baidu, Yahoo, Tesla Motors, and Walmart Labs are using machine learning tools to improve their analytics applications.\n",
      "\n",
      "3. **Sentiment Analysis**: Machine learning uses natural language processing techniques to identify user reactions and sentiment, helping businesses better understand customer feedback.\n",
      "\n",
      "4. **Smart City Development**: Applications in urban planning and management are helping cities become more efficient and responsive to citizens' needs.\n",
      "\n",
      "Would you like me to search for more specific information about any particular aspect of machine learning that interests you, Alex? For example, I could look into machine learning in healthcare, finance, or education,"
     ]
    },
    {
     "name": "stderr",
     "output_type": "stream",
     "text": [
      "INFO:bedrock_agentcore.memory.client:Created event: 0000001758434659000#9603ed95\n"
     ]
    },
    {
     "name": "stdout",
     "output_type": "stream",
     "text": [
      " or focus on specific techniques like reinforcement learning or neural networks."
     ]
    },
    {
     "data": {
      "text/plain": [
       "AgentResult(stop_reason='end_turn', message={'role': 'assistant', 'content': [{'text': \"Based on my search, here's some information about machine learning:\\n\\n# Machine Learning: Latest Developments and Applications\\n\\n## What is Machine Learning?\\nMachine learning is a subset of artificial intelligence that focuses on developing systems that can learn from and make decisions based on data, without being explicitly programmed for specific tasks.\\n\\n## Recent Developments\\n\\n1. **Advancements in Deep Learning Algorithms**: According to AISmasher, there have been significant breakthroughs in deep learning algorithms, enabling more sophisticated applications.\\n\\n2. **Integration with Smart Cities**: MyAlphaFund reports that machine learning is playing a crucial role in the development of smart cities, helping urban environments become more connected and data-driven.\\n\\n3. **Enhanced Computational Efficiency**: Research published in Frontiers in Energy Research highlights improvements in balancing computational efficiency and accuracy, particularly in applications like heat exchanger analysis.\\n\\n## Key Application Areas\\n\\n1. **Energy Systems**: Machine learning methods are being developed to analyze heat exchangers and other energy systems more efficiently.\\n\\n2. **Enterprise Analytics**: Major companies like Google, Facebook, Amazon, Baidu, Yahoo, Tesla Motors, and Walmart Labs are using machine learning tools to improve their analytics applications.\\n\\n3. **Sentiment Analysis**: Machine learning uses natural language processing techniques to identify user reactions and sentiment, helping businesses better understand customer feedback.\\n\\n4. **Smart City Development**: Applications in urban planning and management are helping cities become more efficient and responsive to citizens' needs.\\n\\nWould you like me to search for more specific information about any particular aspect of machine learning that interests you, Alex? For example, I could look into machine learning in healthcare, finance, or education, or focus on specific techniques like reinforcement learning or neural networks.\"}]}, metrics=EventLoopMetrics(cycle_count=3, tool_metrics={'websearch': ToolMetrics(tool={'toolUseId': 'tooluse_9kAIJySzQrW-eLEQGY1PSw', 'name': 'websearch', 'input': {'keywords': 'machine learning latest developments applications techniques', 'max_results': 5}}, call_count=1, success_count=1, error_count=0, total_time=1.249579906463623)}, cycle_durations=[2.049325942993164, 8.718810081481934], traces=[<strands.telemetry.metrics.Trace object at 0x12944aa50>, <strands.telemetry.metrics.Trace object at 0x12944bfb0>, <strands.telemetry.metrics.Trace object at 0x128c13530>], accumulated_usage={'inputTokens': 10257, 'outputTokens': 499, 'totalTokens': 10756}, accumulated_metrics={'latencyMs': 12546}), state={})"
      ]
     },
     "execution_count": 21,
     "metadata": {},
     "output_type": "execute_result"
    }
   ],
   "source": [
    "# Create new agent instance (simulates user returning)\n",
    "print(\"=== User Returns - New Session ===\")\n",
    "new_agent = create_personal_agent()\n",
    "\n",
    "# Test memory continuity\n",
    "print(f\"User: What was my name again?\")\n",
    "print(f\"Agent: \", end=\"\")\n",
    "new_agent(\"What was my name again?\")\n",
    "\n",
    "print(f\"User: Can you search for more information about machine learning?\")\n",
    "print(f\"Agent: \", end=\"\")\n",
    "new_agent(\"Can you search for more information about machine learning?\")"
   ]
  },
  {
   "cell_type": "markdown",
   "id": "step8",
   "metadata": {},
   "source": [
    "## View Stored Memory"
   ]
  },
  {
   "cell_type": "code",
   "execution_count": 23,
   "id": "verify_memory",
   "metadata": {},
   "outputs": [
    {
     "name": "stdout",
     "output_type": "stream",
     "text": [
      "=== Memory Contents ===\n"
     ]
    },
    {
     "name": "stderr",
     "output_type": "stream",
     "text": [
      "INFO:bedrock_agentcore.memory.client:Retrieved total of 22 events\n"
     ]
    },
    {
     "name": "stdout",
     "output_type": "stream",
     "text": [
      "Turn 1:\n",
      "  ASSISTANT: Based on my search, here's some information about machine learning:\n",
      "\n",
      "# Machine Learning: Latest Deve...\n",
      "  ASSISTANT: I'll search for more information about machine learning for you, Alex.\n",
      "\n",
      "Turn 2:\n",
      "  USER: Can you search for more information about machine learning?\n",
      "  ASSISTANT: Based on our previous conversation, your name is Alex. You mentioned this when you introduced yourse...\n",
      "\n",
      "Turn 3:\n",
      "  USER: What was my name again?\n",
      "  ASSISTANT: # Machine Learning Applications in 2025: Current Trends and Real-World Uses\n",
      "\n",
      "Based on the latest inf...\n",
      "  ASSISTANT: Let me search again for more current information about machine learning applications in 2025 specifi...\n",
      "  ASSISTANT: I'll search for the latest information on machine learning applications to provide you with the most...\n",
      "\n"
     ]
    }
   ],
   "source": [
    "# Check what's stored in memory\n",
    "print(\"=== Memory Contents ===\")\n",
    "recent_turns = client.get_last_k_turns(\n",
    "    memory_id=memory_id,\n",
    "    actor_id=ACTOR_ID,\n",
    "    session_id=SESSION_ID,\n",
    "    k=3 # Adjust k to see more or fewer turns\n",
    ")\n",
    "\n",
    "for i, turn in enumerate(recent_turns, 1):\n",
    "    print(f\"Turn {i}:\")\n",
    "    for message in turn:\n",
    "        role = message['role']\n",
    "        content = message['content']['text'][:100] + \"...\" if len(message['content']['text']) > 100 else message['content']['text']\n",
    "        print(f\"  {role}: {content}\")\n",
    "    print()"
   ]
  },
  {
   "cell_type": "markdown",
   "id": "summary",
   "metadata": {},
   "source": [
    "## Summary\n",
    "\n",
    "This tutorial showed how to build a personal agent. You've learned:\n",
    "\n",
    "- Creating memory resources without strategies\n",
    "- Using `get_last_k_turns` for conversation history\n",
    "- Adding web search capabilities to agents\n",
    "- Implementing memory hooks for context loading\n",
    "\n",
    "**Next Steps:**\n",
    "- Add more sophisticated tools\n",
    "- Implement long-term memory strategies\n",
    "- Enhance search capabilities with multiple sources"
   ]
  },
  {
   "cell_type": "markdown",
   "id": "cleanup",
   "metadata": {},
   "source": [
    "## Cleanup (Optional)"
   ]
  },
  {
   "cell_type": "code",
   "execution_count": null,
   "id": "cleanup_code",
   "metadata": {},
   "outputs": [],
   "source": [
    "# Uncomment to delete memory resource\n",
    "# client.delete_memory_and_wait(memory_id)\n",
    "# logger.info(f\"✅ Deleted memory: {memory_id}\")"
   ]
  }
 ],
 "metadata": {
  "kernelspec": {
   "display_name": ".venv",
   "language": "python",
   "name": "python3"
  },
  "language_info": {
   "codemirror_mode": {
    "name": "ipython",
    "version": 3
   },
   "file_extension": ".py",
   "mimetype": "text/x-python",
   "name": "python",
   "nbconvert_exporter": "python",
   "pygments_lexer": "ipython3",
   "version": "3.12.11"
  }
 },
 "nbformat": 4,
 "nbformat_minor": 5
}
