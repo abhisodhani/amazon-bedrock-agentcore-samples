{
 "cells": [
  {
   "cell_type": "markdown",
   "id": "4a87f55f-9cb5-4aee-8d80-cd3b7935aa2d",
   "metadata": {},
   "source": [
    "# Strands multi-agent System with AgentCore Memory Tool (Short term Memory)"
   ]
  },
  {
   "cell_type": "markdown",
   "id": "e1661265-84cd-4a1a-9a62-739c925af6ca",
   "metadata": {},
   "source": [
    "## Introduction\n",
    "\n",
    "This notebook demonstrates how to implement a **multi-agent system with shared memory** using AWS AgentCore Memory and the Strands framework. While our previous examples focused on single-agent memory, this notebook explores how multiple specialized agents can work together while accessing a common memory store.\n",
    "\n",
    "## Tutorial Details\n",
    "\n",
    "| Information         | Details                                                                          |\n",
    "|:--------------------|:---------------------------------------------------------------------------------|\n",
    "| Tutorial type       | Short Term Conversational                                                        |\n",
    "| Agent usecase       | Travel Planning Assistant                                                        |\n",
    "| Agentic Framework   | Strands Agents                                                                   |\n",
    "| LLM model           | Anthropic Claude Sonnet 3.7                                                   |\n",
    "| Tutorial components | AgentCore Short-term Memory, Strands Agents, Memory retrieval via Tool           |\n",
    "| Example complexity  | Beginner                                                                         |\n",
    "\n",
    "\n",
    "What you will learn:\n",
    "\n",
    "- How to set up a shared memory resource that multiple agents can access\n",
    "- Creating specialized agents as tools with their own memory access\n",
    "- Implementing a coordinator agent that delegates to specialized agents\n",
    "- Maintaining conversation context across multiple agent interactions\n",
    "\n",
    "### Scenario context\n",
    "\n",
    "In this example, we'll create a **Travel Planning System** with:\n",
    "1. A Flight Booking Assistant specialized in air travel\n",
    "2. A Hotel Booking Assistant focused on accommodations\n",
    "3. A Travel Coordinator that delegates to these specialized agents\n",
    "\n",
    "This approach demonstrates how complex domains can be broken down into specialized agents that share memory the same memory store.\n",
    "\n",
    "## Architecture\n",
    "<div style=\"text-align:left\">\n",
    "    <img src=\"architecture.png\" width=\"65%\" />\n",
    "</div>\n",
    "\n",
    "## Prerequisites\n",
    "- Python 3.10+\n",
    "- AWS account with appropriate permissions\n",
    "- AWS IAM role with appropriate permissions for AgentCore Memory\n",
    "- Access to Amazon Bedrock models\n",
    "\n",
    "Let's get started by setting up our environment and creating our shared memory resource!"
   ]
  },
  {
   "cell_type": "markdown",
   "id": "091a7ba3-0933-43a2-93b8-3379e73440c1",
   "metadata": {},
   "source": [
    "## Step 1: Environment set up\n",
    "Let's begin importing all the necessary libraries and defining the clients to make this notebook work."
   ]
  },
  {
   "cell_type": "code",
   "execution_count": 1,
   "id": "0ea35f65-29ba-42e7-a756-7ab5b93a84ce",
   "metadata": {},
   "outputs": [],
   "source": [
    "!pip install -qr requirements.txt"
   ]
  },
  {
   "cell_type": "code",
   "execution_count": 2,
   "id": "f63a5236-2e64-4029-876c-87fe808ce0a8",
   "metadata": {},
   "outputs": [],
   "source": [
    "import logging\n",
    "from datetime import datetime\n",
    "from strands.hooks import AgentInitializedEvent, HookProvider, HookRegistry, MessageAddedEvent"
   ]
  },
  {
   "cell_type": "markdown",
   "id": "bff35a0f-79bc-4d47-81d4-5a52f219e664",
   "metadata": {},
   "source": [
    "Define the region and the role with the appropiate permissions for Amazon Bedrock models and AgentCore"
   ]
  },
  {
   "cell_type": "code",
   "execution_count": 3,
   "id": "746a9e5c-0893-431a-9585-9e8bfb13fd52",
   "metadata": {},
   "outputs": [],
   "source": [
    "import os\n",
    "region = os.getenv('AWS_REGION', 'us-west-2')\n",
    "MODEL_ID = \"us.anthropic.claude-3-7-sonnet-20250219-v1:0\"\n",
    "\n",
    "logging.basicConfig(level=logging.INFO, format=\"%(asctime)s - %(levelname)s - %(message)s\", datefmt=\"%Y-%m-%d %H:%M:%S\")\n",
    "logger = logging.getLogger(\"agentcore-memory\")"
   ]
  },
  {
   "cell_type": "markdown",
   "id": "ef644e57-9e6f-413d-9b26-5eeb775d7760",
   "metadata": {},
   "source": [
    "## Step 2: Creating Shared Memory\n",
    "In this section, we'll create a memory resource that will be shared among our specialized agents."
   ]
  },
  {
   "cell_type": "code",
   "execution_count": 4,
   "id": "3be50b1e-e11b-43e4-8ba6-3c9d703110eb",
   "metadata": {},
   "outputs": [],
   "source": [
    "from bedrock_agentcore.memory import MemoryClient"
   ]
  },
  {
   "cell_type": "code",
   "execution_count": 5,
   "id": "99f7fd67-2e2d-4248-8353-b0c495f9fd93",
   "metadata": {},
   "outputs": [
    {
     "name": "stderr",
     "output_type": "stream",
     "text": [
      "2025-09-20 23:13:48 - INFO - Found credentials in shared credentials file: ~/.aws/credentials\n",
      "2025-09-20 23:13:48 - INFO - Initialized MemoryClient for control plane: us-west-2, data plane: us-west-2\n"
     ]
    }
   ],
   "source": [
    "client = MemoryClient(region_name=region)\n",
    "memory_name = \"TravelAgent_STM_%s\" % datetime.now().strftime(\"%Y%m%d%H%M%S\")\n",
    "memory_id = None\n"
   ]
  },
  {
   "cell_type": "code",
   "execution_count": 6,
   "id": "8f32d7a9-dcdd-4296-968c-94aa7f3a7c30",
   "metadata": {},
   "outputs": [
    {
     "name": "stdout",
     "output_type": "stream",
     "text": [
      "Creating Memory...\n"
     ]
    },
    {
     "name": "stderr",
     "output_type": "stream",
     "text": [
      "2025-09-20 23:14:08 - INFO - Created memory: TravelAgent_STM_20250920231348-WdhIvk6N1d\n",
      "2025-09-20 23:14:08 - INFO - Created memory TravelAgent_STM_20250920231348-WdhIvk6N1d, waiting for ACTIVE status...\n",
      "2025-09-20 23:14:08 - INFO - Memory TravelAgent_STM_20250920231348-WdhIvk6N1d is now ACTIVE (took 0 seconds)\n"
     ]
    },
    {
     "name": "stdout",
     "output_type": "stream",
     "text": [
      "Memory created successfully with ID: TravelAgent_STM_20250920231348-WdhIvk6N1d\n"
     ]
    }
   ],
   "source": [
    "from botocore.exceptions import ClientError\n",
    "\n",
    "try:\n",
    "    print(\"Creating Memory...\")\n",
    "    memory_name = memory_name\n",
    "\n",
    "    # Create the memory resource\n",
    "    memory = client.create_memory_and_wait(\n",
    "        name=memory_name,                       # Unique name for this memory store\n",
    "        description=\"Travel Agent STM\",         # Human-readable description\n",
    "        strategies=[],                          # No special memory strategies for short-term memory\n",
    "        event_expiry_days=7,                    # Memories expire after 7 days\n",
    "        max_wait=300,                           # Maximum time to wait for memory creation (5 minutes)\n",
    "        poll_interval=10                        # Check status every 10 seconds\n",
    "    )\n",
    "\n",
    "    # Extract and print the memory ID\n",
    "    memory_id = memory['id']\n",
    "    print(f\"Memory created successfully with ID: {memory_id}\")\n",
    "except ClientError as e:\n",
    "    if e.response['Error']['Code'] == 'ValidationException' and \"already exists\" in str(e):\n",
    "        # If memory already exists, retrieve its ID\n",
    "        memories = client.list_memories()\n",
    "        memory_id = next((m['id'] for m in memories if m['id'].startswith(memory_name)), None)\n",
    "        logger.info(f\"Memory already exists. Using existing memory ID: {memory_id}\")\n",
    "except Exception as e:\n",
    "    # Handle any errors during memory creation\n",
    "    print(f\"\u274c ERROR: {e}\")\n",
    "    import traceback\n",
    "    traceback.print_exc()\n",
    "\n",
    "    # Cleanup on error - delete the memory if it was partially created\n",
    "    if memory_id:\n",
    "        try:\n",
    "            client.delete_memory_and_wait(memory_id=memory_id)\n",
    "            logger.info(f\"Cleaned up memory: {memory_id}\")\n",
    "        except Exception as cleanup_error:\n",
    "            logger.info(f\"Failed to clean up memory: {cleanup_error}\")"
   ]
  },
  {
   "cell_type": "markdown",
   "id": "aa3fed1c-aa71-409b-9b37-2ee03b0aeeb5",
   "metadata": {},
   "source": [
    "### Understanding Shared Memory for Multi-Agent Systems\n",
    "\n",
    "The memory resource we've created will serve as a shared knowledge base for our travel planning system. All agents will read from and write to this common memory store, enabling:\n",
    "\n",
    "1. **Knowledge Consistency**: All agents work with the same information\n",
    "2. **Context Preservation**: Conversation history is maintained across agent transitions\n",
    "3. **Specialized Access**: Each agent will have its own actor_id but share the session_id\n",
    "\n",
    "This approach allows specialized agents to focus on their domains while still benefiting from the full conversation context."
   ]
  },
  {
   "cell_type": "markdown",
   "id": "5287c609-2117-41db-8ab4-5df5acdbf150",
   "metadata": {},
   "source": [
    "## Step 3: Create Memory Hook Provider\n",
    "\n",
    "This step defines our custom `MemoryHookProvider` class that automates memory operations. Hooks are special functions that run at specific points in an agent's execution lifecycle. The memory hook we're creating serves two primary functions:\n",
    "\n",
    "1. **Retrieve Memories**: Automatically fetches relevant past conversations when a user sends a message\n",
    "2. **Save Memories**: Stores new conversations after the agent responds\n",
    "\n",
    "This creates a seamless memory experience without manual management."
   ]
  },
  {
   "cell_type": "code",
   "execution_count": 7,
   "id": "371823d3-186c-4c99-ab78-9316e522afd3",
   "metadata": {},
   "outputs": [],
   "source": [
    "class ShortTermMemoryHook(HookProvider):\n",
    "    def __init__(self, memory_client: MemoryClient, memory_id: str):\n",
    "        self.memory_client = memory_client\n",
    "        self.memory_id = memory_id\n",
    "    \n",
    "    def on_agent_initialized(self, event: AgentInitializedEvent):\n",
    "        \"\"\"Load recent conversation history when agent starts\"\"\"\n",
    "        try:\n",
    "            # Get session info from agent state\n",
    "            actor_id = event.agent.state.get(\"actor_id\")\n",
    "            session_id = event.agent.state.get(\"session_id\")\n",
    "            \n",
    "            if not actor_id or not session_id:\n",
    "                logger.warning(\"Missing actor_id or session_id in agent state\")\n",
    "                return\n",
    "            \n",
    "            # Get event from memory\n",
    "            event_response = self.memory_client.get_event(\n",
    "                memoryId=self.memory_id,\n",
    "                sessionId=session_id,\n",
    "                actorId=actor_id,\n",
    "                eventId='string'\n",
    "            )\n",
    "            \n",
    "            if event_response and 'event' in event_response:\n",
    "                event_data = event_response['event']\n",
    "                payload = event_data.get('payload', [])\n",
    "                \n",
    "                if payload:\n",
    "                    # Format conversation history for context\n",
    "                    context_messages = []\n",
    "                    for item in payload:\n",
    "                        if 'conversational' in item:\n",
    "                            conv = item['conversational']\n",
    "                            role = conv['role'].lower()\n",
    "                            content = conv['content']['text']\n",
    "                            context_messages.append(f\"{role.title()}: {content}\")\n",
    "                    \n",
    "                    context = \"\\n\".join(context_messages)\n",
    "                    logger.info(f\"Context from memory: {context}\")\n",
    "                    \n",
    "                    # Add context to agent's system prompt\n",
    "                    event.agent.system_prompt += f\"\\n\\nRecent conversation history:\\n{context}\\n\\nContinue the conversation naturally based on this context.\"\n",
    "                    \n",
    "                    logger.info(f\"\u2705 Loaded conversation history from event {event_data.get('eventId')}\")\n",
    "                else:\n",
    "                    logger.info(\"No conversation payload found in event\")\n",
    "            else:\n",
    "                logger.info(\"No previous conversation history found\")\n",
    "                \n",
    "        except Exception as e:\n",
    "            logger.error(f\"Failed to load conversation history: {e}\")\n",
    "    \n",
    "    def on_message_added(self, event: MessageAddedEvent):\n",
    "        \"\"\"Store conversation turns in memory\"\"\"\n",
    "        messages = event.agent.messages\n",
    "        try:\n",
    "            # Get session info from agent state\n",
    "            actor_id = event.agent.state.get(\"actor_id\")\n",
    "            session_id = event.agent.state.get(\"session_id\")\n",
    "            \n",
    "            if not actor_id or not session_id:\n",
    "                logger.warning(\"Missing actor_id or session_id in agent state\")\n",
    "                return\n",
    "            \n",
    "            self.memory_client.create_event(\n",
    "                memory_id=self.memory_id,\n",
    "                actor_id=actor_id,\n",
    "                session_id=session_id,\n",
    "                messages=[(messages[-1][\"content\"][0][\"text\"], messages[-1][\"role\"])]\n",
    "            )\n",
    "            \n",
    "        except Exception as e:\n",
    "            logger.error(f\"Failed to store message: {e}\")\n",
    "    \n",
    "    def register_hooks(self, registry: HookRegistry) -> None:\n",
    "        # Register memory hooks\n",
    "        registry.add_callback(MessageAddedEvent, self.on_message_added)\n",
    "        registry.add_callback(AgentInitializedEvent, self.on_agent_initialized)"
   ]
  },
  {
   "cell_type": "markdown",
   "id": "11313704-f182-423f-96d7-a64b4482c8aa",
   "metadata": {},
   "source": [
    "## Step 4: Create Multi-Agent Architecture with Strands Agents\n",
    "In this section, we'll create our multi-agent system with specialized agents for flight and hotel bookings, both sharing access to our memory resource."
   ]
  },
  {
   "cell_type": "code",
   "execution_count": 8,
   "id": "a288afca-e06e-48b2-b10b-9cb0465c9e23",
   "metadata": {},
   "outputs": [],
   "source": [
    "# Import the necessary components\n",
    "from strands import Agent, tool"
   ]
  },
  {
   "cell_type": "code",
   "execution_count": 9,
   "id": "b1293c57-967a-4cba-ad18-a07e97358929",
   "metadata": {},
   "outputs": [],
   "source": [
    "# Create unique actor IDs for each specialized agent but share the session ID\n",
    "flight_actor_id = f\"flight-user-{datetime.now().strftime('%Y%m%d%H%M%S')}\"\n",
    "hotel_actor_id = f\"hotel-user-{datetime.now().strftime('%Y%m%d%H%M%S')}\"\n",
    "session_id = f\"travel-session-{datetime.now().strftime('%Y%m%d%H%M%S')}\"\n",
    "flight_namespace = f\"travel/{flight_actor_id}/preferences\"\n",
    "hotel_namespace = f\"travel/{hotel_actor_id}/preferences\""
   ]
  },
  {
   "cell_type": "markdown",
   "id": "48f39b9d-4238-45e5-a8eb-98a8c450e65a",
   "metadata": {},
   "source": [
    "### Creating Specialized Agents with Memory Access\n",
    "\n",
    "Next, we'll define system prompts for our specialized agents. Each prompt includes the memory parameters in a format that the agent can parse:"
   ]
  },
  {
   "cell_type": "code",
   "execution_count": 10,
   "id": "bb748408-80cc-4f2a-8950-ed1523bec2aa",
   "metadata": {},
   "outputs": [],
   "source": [
    "# System prompt for the hotel booking specialist\n",
    "HOTEL_BOOKING_PROMPT = f\"\"\"You are a hotel booking assistant. Help customers find hotels, make reservations, and answer questions about accommodations and amenities. \n",
    "Provide clear information about availability, pricing, and booking procedures in a friendly, helpful manner.\"\"\"\n",
    "\n",
    "# System prompt for the flight booking specialist\n",
    "FLIGHT_BOOKING_PROMPT = f\"\"\"You are a flight booking assistant. Help customers find flights, make reservations, and answer questions about airlines, routes, and travel policies. \n",
    "Provide clear information about flight availability, pricing, schedules, and booking procedures in a friendly, helpful manner.\"\"\""
   ]
  },
  {
   "cell_type": "markdown",
   "id": "a42e6a49-dc31-48ae-b6ca-5e08266fd74a",
   "metadata": {},
   "source": [
    "### Implementing Agent Tools\n",
    "Now we'll implement our specialized agents as tools that can be used by the coordinator agent:"
   ]
  },
  {
   "cell_type": "code",
   "execution_count": 11,
   "id": "1f67ed8c-c15b-4e5a-a130-aa3ef165fc3f",
   "metadata": {},
   "outputs": [],
   "source": [
    "@tool\n",
    "def flight_booking_assistant(query: str) -> str:\n",
    "    \"\"\"\n",
    "    Process and respond to flight booking queries.\n",
    "\n",
    "    Args:\n",
    "        query: A flight-related question about bookings, schedules, airlines, or travel policies\n",
    "\n",
    "    Returns:\n",
    "        Detailed flight information, booking options, or travel advice\n",
    "    \"\"\"\n",
    "    try:\n",
    "        flight_memory_hooks = ShortTermMemoryHook(client, memory_id)\n",
    "        \n",
    "        flight_agent = Agent(\n",
    "            hooks=[flight_memory_hooks],\n",
    "            model=MODEL_ID,\n",
    "            system_prompt=FLIGHT_BOOKING_PROMPT,\n",
    "            state={\"actor_id\": flight_actor_id, \"session_id\": session_id}\n",
    "        )\n",
    "\n",
    "        response = flight_agent(query)\n",
    "        return str(response)\n",
    "    except Exception as e:\n",
    "        return f\"Error in flight booking assistant: {str(e)}\"\n",
    "\n",
    "@tool\n",
    "def hotel_booking_assistant(query: str) -> str:\n",
    "    \"\"\"\n",
    "    Process and respond to hotel booking queries.\n",
    "\n",
    "    Args:\n",
    "        query: A hotel-related question about accommodations, amenities, or reservations\n",
    "\n",
    "    Returns:\n",
    "        Detailed hotel information, booking options, or accommodation advice\n",
    "    \"\"\"\n",
    "    try:\n",
    "        hotel_memory_hooks = ShortTermMemoryHook(client, memory_id)\n",
    "\n",
    "        hotel_booking_agent = Agent(\n",
    "            hooks=[hotel_memory_hooks],\n",
    "            model=MODEL_ID,\n",
    "            system_prompt=HOTEL_BOOKING_PROMPT,\n",
    "            state={\"actor_id\": hotel_actor_id, \"session_id\": session_id}\n",
    "        )\n",
    "        \n",
    "        response = hotel_booking_agent(query)\n",
    "        return str(response)\n",
    "    except Exception as e:\n",
    "        return f\"Error in hotel booking assistant: {str(e)}\""
   ]
  },
  {
   "cell_type": "markdown",
   "id": "e7b572d1-d429-4678-a318-2ab153408e23",
   "metadata": {},
   "source": [
    "### Creating the Coordinator Agent\n",
    "\n",
    "Finally, we'll create the main travel planning agent that coordinates between these specialized tools:"
   ]
  },
  {
   "cell_type": "code",
   "execution_count": 12,
   "id": "4abe237d-36c2-42ab-ae54-4554e1e4f23a",
   "metadata": {},
   "outputs": [],
   "source": [
    "# System prompt for the coordinator agent\n",
    "TRAVEL_AGENT_SYSTEM_PROMPT = \"\"\"\n",
    "You are a comprehensive travel planning assistant that coordinates between specialized tools:\n",
    "- For flight-related queries (bookings, schedules, airlines, routes) \u2192 Use the flight_booking_assistant tool\n",
    "- For hotel-related queries (accommodations, amenities, reservations) \u2192 Use the hotel_booking_assistant tool\n",
    "- For complete travel packages \u2192 Use both tools as needed to provide comprehensive information\n",
    "- For general travel advice or simple travel questions \u2192 Answer directly\n",
    "\n",
    "Each agent will have its own memory in case the user asks about historic data.\n",
    "When handling complex travel requests, coordinate information from both tools to create a cohesive travel plan.\n",
    "Provide clear organization when presenting information from multiple sources. \\\n",
    "Ask max two questions per turn. Keep the messages short, don't overwhelm the customer.\n",
    "\"\"\""
   ]
  },
  {
   "cell_type": "code",
   "execution_count": 13,
   "id": "1f10bb9f-031e-49b6-8175-1b676cdd2576",
   "metadata": {},
   "outputs": [
    {
     "name": "stderr",
     "output_type": "stream",
     "text": [
      "2025-09-20 23:17:47 - INFO - Found credentials in shared credentials file: ~/.aws/credentials\n"
     ]
    }
   ],
   "source": [
    "travel_agent = Agent(\n",
    "    system_prompt=TRAVEL_AGENT_SYSTEM_PROMPT,\n",
    "    model=MODEL_ID,\n",
    "    tools=[flight_booking_assistant, hotel_booking_assistant]\n",
    ")"
   ]
  },
  {
   "cell_type": "markdown",
   "id": "c361c59d-e322-47ae-92a8-ee6cd994df22",
   "metadata": {},
   "source": [
    "#### Your Multi-Agent System is ready !!\n",
    "\n",
    "## Let's test the Agent.\n",
    "\n",
    "Let's test our multi-agent system with a travel planning scenario:"
   ]
  },
  {
   "cell_type": "code",
   "execution_count": 14,
   "id": "8b13aa5d-4abc-41eb-916b-35ccf0b5ab03",
   "metadata": {},
   "outputs": [
    {
     "name": "stderr",
     "output_type": "stream",
     "text": [
      "2025-09-20 23:18:38 - INFO - Creating Strands MetricsClient\n"
     ]
    },
    {
     "name": "stdout",
     "output_type": "stream",
     "text": [
      "Hello! I'd be happy to help you book a trip from Los Angeles to Madrid from July 1 to August 2. I'll need to gather information about both your flight and hotel preferences.\n",
      "\n",
      "Let me start with your flight details:\n",
      "Tool #1: flight_booking_assistant\n"
     ]
    },
    {
     "name": "stderr",
     "output_type": "stream",
     "text": [
      "2025-09-20 23:18:40 - INFO - Found credentials in shared credentials file: ~/.aws/credentials\n",
      "2025-09-20 23:18:41 - INFO - Retrieved total of 0 events\n",
      "2025-09-20 23:18:41 - INFO - No previous conversation history found\n",
      "2025-09-20 23:18:41 - INFO - Created event: 0000001758435521000#aeb0dd00\n"
     ]
    },
    {
     "name": "stdout",
     "output_type": "stream",
     "text": [
      "# Los Angeles to Madrid Flight Options\n",
      "\n",
      "I'd be happy to help you find flight options for your trip to Madrid!\n",
      "\n",
      "## Search Details\n",
      "- **Departure**: Los Angeles (LAX) to Madrid (MAD)\n",
      "- **Outbound Date**: July 1\n",
      "- **Return Date**: August 2\n",
      "- **Duration**: Approximately 32 days\n",
      "\n",
      "## Available Options\n",
      "\n",
      "Without specific search access, I can provide general information about airlines that typically operate this route:\n",
      "\n",
      "- **Direct Flights**: Iberia and American Airlines offer non-stop options (approximately 11-12 hours)\n",
      "- **One-Stop Options**: Delta (via NYC), United (via Chicago), Air France (via Paris), British Airways (via London)\n",
      "\n",
      "## Estimated Price Ranges\n",
      "- Economy: $800-1,400\n",
      "- Premium Economy: $1,400-2,200\n",
      "- Business: $2,500-5,000\n",
      "\n",
      "## Next Steps\n",
      "\n",
      "To get exact prices and availability:\n",
      "1. Would you like me to search specific airlines?\n",
      "2. Do you have a preference for direct flights or are connections okay?\n",
      "3. How many passengers will be traveling?\n",
      "4. Do you have a preferred cabin class?\n",
      "\n",
      "Once you provide these details, I can give you more tailored information or direct you to booking resources."
     ]
    },
    {
     "name": "stderr",
     "output_type": "stream",
     "text": [
      "2025-09-20 23:18:48 - INFO - Created event: 0000001758435527000#2e3cbd2b\n"
     ]
    },
    {
     "name": "stdout",
     "output_type": "stream",
     "text": [
      "Now let me check hotel options for your stay in Madrid:\n",
      "Tool #2: hotel_booking_assistant\n"
     ]
    },
    {
     "name": "stderr",
     "output_type": "stream",
     "text": [
      "2025-09-20 23:18:49 - INFO - Found credentials in shared credentials file: ~/.aws/credentials\n",
      "2025-09-20 23:18:50 - INFO - Retrieved total of 0 events\n",
      "2025-09-20 23:18:50 - INFO - No previous conversation history found\n",
      "2025-09-20 23:18:50 - INFO - Created event: 0000001758435530000#b3b94090\n"
     ]
    },
    {
     "name": "stdout",
     "output_type": "stream",
     "text": [
      "# Madrid Hotel Options: July 1 - August 2\n",
      "\n",
      "I'd be happy to help you find hotel accommodations in Madrid for your month-long stay! \n",
      "\n",
      "## Some questions to help narrow down your options:\n",
      "\n",
      "- What is your approximate budget per night?\n",
      "- Do you prefer a specific area of Madrid (city center, near attractions, quiet neighborhood)?\n",
      "- What type of accommodations are you looking for (luxury hotel, mid-range, budget-friendly)?\n",
      "- How many people will be staying?\n",
      "- Do you need any specific amenities (pool, gym, kitchen facilities, etc.)?\n",
      "\n",
      "Madrid offers a wide variety of options from luxury hotels like the Ritz and Four Seasons to boutique properties in neighborhoods like Malasa\u00f1a or Salamanca, as well as apartment-style accommodations that might be ideal for a longer stay.\n",
      "\n",
      "If you share a few more details about your preferences, I can"
     ]
    },
    {
     "name": "stderr",
     "output_type": "stream",
     "text": [
      "2025-09-20 23:18:55 - INFO - Created event: 0000001758435535000#89c73331\n"
     ]
    },
    {
     "name": "stdout",
     "output_type": "stream",
     "text": [
      " provide more tailored recommendations!Based on the information I've gathered, I can help you plan your month-long trip to Madrid. To proceed with more specific recommendations, I need a few more details:\n",
      "\n",
      "For your flight:\n",
      "1. Do you prefer direct flights or are connections acceptable?\n",
      "2. How many passengers will be traveling?\n",
      "\n",
      "For your hotel:\n",
      "1. What's your approximate nightly budget for accommodation?\n",
      "2. Do you have a preferred area in Madrid to stay?\n",
      "\n",
      "Once you provide these details, I can give you more tailored flight and hotel options for your LA to Madrid trip from July 1 to August 2."
     ]
    }
   ],
   "source": [
    "response = travel_agent(\"Hello, I would like to book a trip from LA to Madrid. From July 1 to August 2.\")"
   ]
  },
  {
   "cell_type": "code",
   "execution_count": 15,
   "id": "ec209fa8-fd5a-41a8-b7d1-86a1f137331f",
   "metadata": {},
   "outputs": [
    {
     "name": "stdout",
     "output_type": "stream",
     "text": [
      "I understand you'd like to focus just on the flight options right now. Let me help you with finding direct flights from Los Angeles to Madrid for your travel dates.\n",
      "Tool #3: flight_booking_assistant\n"
     ]
    },
    {
     "name": "stderr",
     "output_type": "stream",
     "text": [
      "2025-09-20 23:21:18 - INFO - Found credentials in shared credentials file: ~/.aws/credentials\n",
      "2025-09-20 23:21:19 - INFO - Retrieved total of 2 events\n",
      "2025-09-20 23:21:19 - INFO - Context from memory: Assistant: # Los Angeles to Madrid Flight Options\n",
      "\n",
      "I'd be happy to help you find flight options for your trip to Madrid!\n",
      "\n",
      "## Search Details\n",
      "- **Departure**: Los Angeles (LAX) to Madrid (MAD)\n",
      "- **Outbound Date**: July 1\n",
      "- **Return Date**: August 2\n",
      "- **Duration**: Approximately 32 days\n",
      "\n",
      "## Available Options\n",
      "\n",
      "Without specific search access, I can provide general information about airlines that typically operate this route:\n",
      "\n",
      "- **Direct Flights**: Iberia and American Airlines offer non-stop options (approximately 11-12 hours)\n",
      "- **One-Stop Options**: Delta (via NYC), United (via Chicago), Air France (via Paris), British Airways (via London)\n",
      "\n",
      "## Estimated Price Ranges\n",
      "- Economy: $800-1,400\n",
      "- Premium Economy: $1,400-2,200\n",
      "- Business: $2,500-5,000\n",
      "\n",
      "## Next Steps\n",
      "\n",
      "To get exact prices and availability:\n",
      "1. Would you like me to search specific airlines?\n",
      "2. Do you have a preference for direct flights or are connections okay?\n",
      "3. How many passengers will be traveling?\n",
      "4. Do you have a preferred cabin class?\n",
      "\n",
      "Once you provide these details, I can give you more tailored information or direct you to booking resources.\n",
      "User: I need flight options from Los Angeles to Madrid, departing July 1 and returning August 2.\n",
      "2025-09-20 23:21:19 - INFO - \u2705 Loaded 2 recent conversation turns\n",
      "2025-09-20 23:21:19 - INFO - Created event: 0000001758435679000#2b4756dd\n"
     ]
    },
    {
     "name": "stdout",
     "output_type": "stream",
     "text": [
      "# Direct Flight Options: Los Angeles to Madrid\n",
      "\n",
      "I'd be happy to focus on direct flights only for your Los Angeles to Madrid trip!\n",
      "\n",
      "## Direct Flight Carriers\n",
      "For this route, direct flights are typically operated by:\n",
      "- **Iberia** (IB)\n",
      "- **American Airlines** (AA) (often codeshared with Iberia)\n",
      "\n",
      "## Expected Schedule Information\n",
      "**Outbound: July 1, 2023 (LAX to MAD)**\n",
      "- Typical departure times: Late afternoon/evening (around 4:00 PM - 6:00 PM)\n",
      "- Flight duration: Approximately 11-12 hours\n",
      "- Arrival: Next day, morning/midday in Madrid\n",
      "\n",
      "**Return: August 2, 2023 (MAD to LAX)**\n",
      "- Typical departure times: Morning/midday (around 12:00 PM - 2:00 PM)\n",
      "- Flight duration: Approximately 12-13 hours\n",
      "- Arrival: Same day, afternoon/evening in Los Angeles\n",
      "\n",
      "## Estimated Direct Flight Pricing\n",
      "- **Economy**: $1,000-1,600\n",
      "- **Premium Economy**: $1,700-2,400\n",
      "- **Business Class**: $3,000-6,000\n",
      "\n",
      "## Recommended Next Steps\n",
      "For exact availability and current pricing, I recommend:\n",
      "1. Check the Iberia or American Airlines websites directly\n",
      "2. Use comparison sites like Kayak, Expedia, or Google Flights\n",
      "3. Consider booking soon, as direct flights on this popular summer route may fill up\n",
      "\n",
      "Would you like information about baggage allowances or other amenities on these direct flights?"
     ]
    },
    {
     "name": "stderr",
     "output_type": "stream",
     "text": [
      "2025-09-20 23:21:28 - INFO - Created event: 0000001758435687000#22281099\n"
     ]
    },
    {
     "name": "stdout",
     "output_type": "stream",
     "text": [
      "Here are the direct flight options for your trip from Los Angeles to Madrid:\n",
      "\n",
      "## Direct Flight Options\n",
      "- **Airlines**: Iberia and American Airlines (sometimes codeshared)\n",
      "- **Departure**: Los Angeles (LAX) to Madrid (MAD) on July 1\n",
      "  - Typical departure: Late afternoon/evening (4:00 PM - 6:00 PM)\n",
      "  - Flight duration: 11-12 hours\n",
      "  - Arrival: Next day, morning/midday in Madrid\n",
      "- **Return**: Madrid (MAD) to Los Angeles (LAX) on August 2\n",
      "  - Typical departure: Morning/midday (12:00 PM - 2:00 PM)\n",
      "  - Flight duration: 12-13 hours\n",
      "\n",
      "## Estimated Pricing\n",
      "- Economy: $1,000-1,600\n",
      "- Premium Economy: $1,700-2,400\n",
      "- Business Class: $3,000-6,000\n",
      "\n",
      "Would you like to proceed with checking availability for these direct flights? Also, do you have a preference between Iberia and American Airlines, or a particular cabin class in mind?"
     ]
    }
   ],
   "source": [
    "response = travel_agent(\"I would only like to focus on the flight at the moment. direct flimid-range, city center, pool, standard room\")"
   ]
  },
  {
   "cell_type": "markdown",
   "id": "ef1ed3c9-93ee-4617-81a7-b462133f4488",
   "metadata": {},
   "source": [
    "## Testing Memory Persistence\n",
    "\n",
    "To test if our memory system is working correctly, we'll create a new instance of the travel agent and see if it can access the previously stored information:"
   ]
  },
  {
   "cell_type": "code",
   "execution_count": 17,
   "id": "8007b15a-2b00-4f07-aa7d-dfa8ba7b5b10",
   "metadata": {},
   "outputs": [
    {
     "name": "stderr",
     "output_type": "stream",
     "text": [
      "2025-09-20 23:25:53 - INFO - Found credentials in shared credentials file: ~/.aws/credentials\n"
     ]
    },
    {
     "name": "stdout",
     "output_type": "stream",
     "text": [
      "I don't have any records of previous flight discussions with you. To help you with flight information, I'll need you to provide some details about what you're looking for.\n",
      "\n",
      "Could you please let me know:\n",
      "- What specific flight information are you interested in?\n",
      "- When and where were you planning to travel?\n",
      "\n",
      "Once you provide these details, I can use my flight booking assistant to help you with accurate information."
     ]
    },
    {
     "data": {
      "text/plain": [
       "AgentResult(stop_reason='end_turn', message={'role': 'assistant', 'content': [{'text': \"I don't have any records of previous flight discussions with you. To help you with flight information, I'll need you to provide some details about what you're looking for.\\n\\nCould you please let me know:\\n- What specific flight information are you interested in?\\n- When and where were you planning to travel?\\n\\nOnce you provide these details, I can use my flight booking assistant to help you with accurate information.\"}]}, metrics=EventLoopMetrics(cycle_count=1, tool_metrics={}, cycle_durations=[2.5746700763702393], traces=[<strands.telemetry.metrics.Trace object at 0x1231fd700>], accumulated_usage={'inputTokens': 745, 'outputTokens': 89, 'totalTokens': 834}, accumulated_metrics={'latencyMs': 2428}), state={})"
      ]
     },
     "execution_count": 17,
     "metadata": {},
     "output_type": "execute_result"
    }
   ],
   "source": [
    "# Create a new instance of the travel agent\n",
    "new_travel_agent = Agent(\n",
    "    system_prompt=TRAVEL_AGENT_SYSTEM_PROMPT,\n",
    "    model=MODEL_ID,\n",
    "    tools=[flight_booking_assistant, hotel_booking_assistant]\n",
    ")\n",
    "\n",
    "# Ask about previous conversations\n",
    "new_travel_agent(\"Can you remind me about flights talked about before?\")"
   ]
  },
  {
   "cell_type": "markdown",
   "id": "2fb6cdd1-5c11-4346-9c5a-93fb44c779ac",
   "metadata": {},
   "source": [
    "## Summary\n",
    "\n",
    "In this notebook, we've demonstrated:\n",
    "\n",
    "1. How to create a shared memory resource for multiple agents\n",
    "2. How to implement specialized agents as tools with memory access\n",
    "3. How to coordinate between multiple agents while maintaining conversation context\n",
    "4. How memory persists across different agent instances\n",
    "\n",
    "This multi-agent architecture with shared memory provides a powerful approach for building complex conversational AI systems that can handle specialized domains while maintaining a cohesive user experience."
   ]
  },
  {
   "cell_type": "markdown",
   "id": "18852f04-e06e-4787-9c4f-3d2d2ba8563b",
   "metadata": {},
   "source": [
    "## Clean up\n",
    "Let's delete the memory to clean up the resources used in this notebook."
   ]
  },
  {
   "cell_type": "code",
   "execution_count": null,
   "id": "3d4577ee-3a79-4a44-abde-86391e98e4bb",
   "metadata": {},
   "outputs": [],
   "source": [
    "#client.delete_memory_and_wait(\n",
    "#        memory_id = memory_id,\n",
    "#        max_wait = 300,\n",
    "#        poll_interval =10\n",
    "#)"
   ]
  }
 ],
 "metadata": {
  "kernelspec": {
   "display_name": ".venv",
   "language": "python",
   "name": "python3"
  },
  "language_info": {
   "codemirror_mode": {
    "name": "ipython",
    "version": 3
   },
   "file_extension": ".py",
   "mimetype": "text/x-python",
   "name": "python",
   "nbconvert_exporter": "python",
   "pygments_lexer": "ipython3",
   "version": "3.12.11"
  }
 },
 "nbformat": 4,
 "nbformat_minor": 5
}